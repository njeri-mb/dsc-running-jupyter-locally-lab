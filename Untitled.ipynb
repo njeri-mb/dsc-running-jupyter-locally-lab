{
 "cells": [
  {
   "cell_type": "code",
   "execution_count": 1,
   "id": "a17531cf-5143-4d73-9a99-9a8971af34dd",
   "metadata": {},
   "outputs": [
    {
     "data": {
      "text/plain": [
       "list"
      ]
     },
     "execution_count": 1,
     "metadata": {},
     "output_type": "execute_result"
    }
   ],
   "source": [
    "info_table = [\n",
    "    {\"color\": \"green\", \"number\": 7},\n",
    "    {\"color\": \"red\", \"number\": 2},\n",
    "    {\"color\": \"orange\", \"number\": 1}\n",
    "]\n",
    "\n",
    "type(info_table)"
   ]
  },
  {
   "cell_type": "code",
   "execution_count": 2,
   "id": "47a7e6d5-fe43-41c8-89ec-8ebd6a93c84a",
   "metadata": {},
   "outputs": [
    {
     "name": "stdout",
     "output_type": "stream",
     "text": [
      "green\n",
      "red\n",
      "orange\n"
     ]
    }
   ],
   "source": [
    "for row in info_table:\n",
    "    print(row[\"color\"]) "
   ]
  },
  {
   "cell_type": "code",
   "execution_count": null,
   "id": "4f01962e-8164-4c50-ab09-a2bc9f23674f",
   "metadata": {},
   "outputs": [],
   "source": []
  }
 ],
 "metadata": {
  "kernelspec": {
   "display_name": "Python 3 (ipykernel)",
   "language": "python",
   "name": "python3"
  },
  "language_info": {
   "codemirror_mode": {
    "name": "ipython",
    "version": 3
   },
   "file_extension": ".py",
   "mimetype": "text/x-python",
   "name": "python",
   "nbconvert_exporter": "python",
   "pygments_lexer": "ipython3",
   "version": "3.11.7"
  }
 },
 "nbformat": 4,
 "nbformat_minor": 5
}
